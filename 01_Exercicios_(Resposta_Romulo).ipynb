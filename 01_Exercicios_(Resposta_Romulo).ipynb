{
  "nbformat": 4,
  "nbformat_minor": 0,
  "metadata": {
    "colab": {
      "name": "01. Exercicios (Resposta Romulo).ipynb",
      "provenance": [],
      "toc_visible": true
    },
    "kernelspec": {
      "name": "python3",
      "display_name": "Python 3"
    }
  },
  "cells": [
    {
      "cell_type": "markdown",
      "metadata": {
        "id": "KJqp9AANOCtf"
      },
      "source": [
        "<img src=\"https://raw.githubusercontent.com/andre-marcos-perez/ebac-course-utils/main/media/logo/newebac_logo_black_half.png\" alt=\"ebac-logo\">\n",
        "\n",
        "---\n",
        "\n",
        "# **Módulo 01** | Python: Variáveis & Tipos de Dados\n",
        "Caderno de **Exercícios**<br> \n",
        "Professor [André Perez](https://www.linkedin.com/in/andremarcosperez/)\n",
        "\n",
        "---"
      ]
    },
    {
      "cell_type": "markdown",
      "metadata": {
        "id": "d9jDtUbDOE1-"
      },
      "source": [
        "# **Tópicos**\n",
        "\n",
        "<ol type=\"1\">\n",
        "  <li>Introdução ao Google Colab;</li>\n",
        "  <li>Variáveis;</li>\n",
        "  <li>Números;</li>\n",
        "  <li><i>Strings;</i></li>\n",
        "  <li>Boleanos.</li>\n",
        "</ol>"
      ]
    },
    {
      "cell_type": "markdown",
      "metadata": {
        "id": "SmoHgt-lwkpD"
      },
      "source": [
        "---"
      ]
    },
    {
      "cell_type": "markdown",
      "metadata": {
        "id": "GABI6OW8OfQ2"
      },
      "source": [
        "# **Exercícios**"
      ]
    },
    {
      "cell_type": "markdown",
      "metadata": {
        "id": "muD1vxozykSC"
      },
      "source": [
        "## 1\\. Google Colab"
      ]
    },
    {
      "cell_type": "markdown",
      "metadata": {
        "id": "ahrFfCuBxJKs"
      },
      "source": [
        "Crie uma célula de código que escreva o texto \"Olá mundo!\", utilize o comando `print`."
      ]
    },
    {
      "cell_type": "code",
      "metadata": {
        "colab": {
          "base_uri": "https://localhost:8080/"
        },
        "id": "lrYwph9QNY62",
        "outputId": "46a540c6-1a7d-4087-ccaa-5b6da871ee0a"
      },
      "source": [
        "print('Hello World')"
      ],
      "execution_count": 1,
      "outputs": [
        {
          "output_type": "stream",
          "text": [
            "Hello World\n"
          ],
          "name": "stdout"
        }
      ]
    },
    {
      "cell_type": "markdown",
      "metadata": {
        "id": "KI9zQRT2xa7m"
      },
      "source": [
        "Crie uma célua de texto e adicione uma imagem."
      ]
    },
    {
      "cell_type": "markdown",
      "metadata": {
        "id": "e-f0e2caNd6j"
      },
      "source": [
        "![logotipo4.JPG](data:image/jpeg;base64,/9j/4AAQSkZJRgABAQEAYABgAAD/4RDgRXhpZgAATU0AKgAAAAgABAE7AAIAAAAHAAAISodpAAQAAAABAAAIUpydAAEAAAAOAAAQyuocAAcAAAgMAAAAPgAAAAAc6gAAAAgAAAAAAAAAAAAAAAAAAAAAAAAAAAAAAAAAAAAAAAAAAAAAAAAAAAAAAAAAAAAAAAAAAAAAAAAAAAAAAAAAAAAAAAAAAAAAAAAAAAAAAAAAAAAAAAAAAAAAAAAAAAAAAAAAAAAAAAAAAAAAAAAAAAAAAAAAAAAAAAAAAAAAAAAAAAAAAAAAAAAAAAAAAAAAAAAAAAAAAAAAAAAAAAAAAAAAAAAAAAAAAAAAAAAAAAAAAAAAAAAAAAAAAAAAAAAAAAAAAAAAAAAAAAAAAAAAAAAAAAAAAAAAAAAAAAAAAAAAAAAAAAAAAAAAAAAAAAAAAAAAAAAAAAAAAAAAAAAAAAAAAAAAAAAAAAAAAAAAAAAAAAAAAAAAAAAAAAAAAAAAAAAAAAAAAAAAAAAAAAAAAAAAAAAAAAAAAAAAAAAAAAAAAAAAAAAAAAAAAAAAAAAAAAAAAAAAAAAAAAAAAAAAAAAAAAAAAAAAAAAAAAAAAAAAAAAAAAAAAAAAAAAAAAAAAAAAAAAAAAAAAAAAAAAAAAAAAAAAAAAAAAAAAAAAAAAAAAAAAAAAAAAAAAAAAAAAAAAAAAAAAAAAAAAAAAAAAAAAAAAAAAAAAAAAAAAAAAAAAAAAAAAAAAAAAAAAAAAAAAAAAAAAAAAAAAAAAAAAAAAAAAAAAAAAAAAAAAAAAAAAAAAAAAAAAAAAAAAAAAAAAAAAAAAAAAAAAAAAAAAAAAAAAAAAAAAAAAAAAAAAAAAAAAAAAAAAAAAAAAAAAAAAAAAAAAAAAAAAAAAAAAAAAAAAAAAAAAAAAAAAAAAAAAAAAAAAAAAAAAAAAAAAAAAAAAAAAAAAAAAAAAAAAAAAAAAAAAAAAAAAAAAAAAAAAAAAAAAAAAAAAAAAAAAAAAAAAAAAAAAAAAAAAAAAAAAAAAAAAAAAAAAAAAAAAAAAAAAAAAAAAAAAAAAAAAAAAAAAAAAAAAAAAAAAAAAAAAAAAAAAAAAAAAAAAAAAAAAAAAAAAAAAAAAAAAAAAAAAAAAAAAAAAAAAAAAAAAAAAAAAAAAAAAAAAAAAAAAAAAAAAAAAAAAAAAAAAAAAAAAAAAAAAAAAAAAAAAAAAAAAAAAAAAAAAAAAAAAAAAAAAAAAAAAAAAAAAAAAAAAAAAAAAAAAAAAAAAAAAAAAAAAAAAAAAAAAAAAAAAAAAAAAAAAAAAAAAAAAAAAAAAAAAAAAAAAAAAAAAAAAAAAAAAAAAAAAAAAAAAAAAAAAAAAAAAAAAAAAAAAAAAAAAAAAAAAAAAAAAAAAAAAAAAAAAAAAAAAAAAAAAAAAAAAAAAAAAAAAAAAAAAAAAAAAAAAAAAAAAAAAAAAAAAAAAAAAAAAAAAAAAAAAAAAAAAAAAAAAAAAAAAAAAAAAAAAAAAAAAAAAAAAAAAAAAAAAAAAAAAAAAAAAAAAAAAAAAAAAAAAAAAAAAAAAAAAAAAAAAAAAAAAAAAAAAAAAAAAAAAAAAAAAAAAAAAAAAAAAAAAAAAAAAAAAAAAAAAAAAAAAAAAAAAAAAAAAAAAAAAAAAAAAAAAAAAAAAAAAAAAAAAAAAAAAAAAAAAAAAAAAAAAAAAAAAAAAAAAAAAAAAAAAAAAAAAAAAAAAAAAAAAAAAAAAAAAAAAAAAAAAAAAAAAAAAAAAAAAAAAAAAAAAAAAAAAAAAAAAAAAAAAAAAAAAAAAAAAAAAAAAAAAAAAAAAAAAAAAAAAAAAAAAAAAAAAAAAAAAAAAAAAAAAAAAAAAAAAAAAAAAAAAAAAAAAAAAAAAAAAAAAAAAAAAAAAAAAAAAAAAAAAAAAAAAAAAAAAAAAAAAAAAAAAAAAAAAAAAAAAAAAAAAAAAAAAAAAAAAAAAAAAAAAAAAAAAAAAAAAAAAAAAAAAAAAAAAAAAAAAAAAAAAAAAAAAAAAAAAAAAAAAAAAAAAAAAAAAAAAAAAAAAAAAAAAAAAAAAAAAAAAAAAAAAAAAAAAAAAAAAAAAAAAAAAAAAAAAAAAAAAAAAAAAAAAAAAAAAAAAAAAAAAAAAAAAAAAAAAAAAAAAAAAAAAAAAAAAAAAAAAAAAAAAAAAAAAAAAAAAAAAAAAAAAAAAAAAAAAAAAAAAAAAAAAAAAAAAAAAAAAAAAAAAAAAAAAAAAAAAAAAAAAAAAAAAAAAAAAAAAAAAAAAAAAAAAAAAAAAAAAAAAAAAAAAAAAAAAAAAAAAAAAAAAAAAAAAAAAAAAAAAAAAAAAAAAAAAAAAAAAAAAAAAAAAAAAAAAAAAAAAAAAAAAAAAAAAAAAAAAAAAAAAAAAAAAAAAAAAAAAAAAAAAAAAAAAAAAAAAAAAAAAAAAAAAAAAAAAAAAAAAAAAAAAAAAAAAAAAAAAAAAAAAAAAAAAAAAAAAAAAAAAAAAAAAAAAAAAAAAAAAAAAAAAAAAAAAAAAAAAAAAAAAAAAAAAAAAAAAAAAAAAAAAAAAAAAAAAAAAAAAAAAAAAAAAAAAAAAAAAAAAAAAAAAAAAAAAAAAAAAAAAAAAAAAAAAAAAAAAAAAAAAAAAAAAAAAAAAAAAAAAAAAAAAAAAAAAAAAAAAAAAAAAAAAAAAAAAAAAAAAAAAAAAAAAAAAAAAAAAAAAAAAAAAAAAAAAAAAAAAAAAAAAAAAAAAAAAAAAAAAAAAAAAAAAAAAAAAAAAAAAAAAAAAAAAAAAAAAAAAAAAAAAAAAAAAAAAAAAAAAAAAAAAAAAAAAAAAAAAAAAAAAAAAAAAAAAAAFJvbXVsbwAAAAWQAwACAAAAFAAAEKCQBAACAAAAFAAAELSSkQACAAAAAzE0AACSkgACAAAAAzE0AADqHAAHAAAIDAAACJQAAAAAHOoAAAAIAAAAAAAAAAAAAAAAAAAAAAAAAAAAAAAAAAAAAAAAAAAAAAAAAAAAAAAAAAAAAAAAAAAAAAAAAAAAAAAAAAAAAAAAAAAAAAAAAAAAAAAAAAAAAAAAAAAAAAAAAAAAAAAAAAAAAAAAAAAAAAAAAAAAAAAAAAAAAAAAAAAAAAAAAAAAAAAAAAAAAAAAAAAAAAAAAAAAAAAAAAAAAAAAAAAAAAAAAAAAAAAAAAAAAAAAAAAAAAAAAAAAAAAAAAAAAAAAAAAAAAAAAAAAAAAAAAAAAAAAAAAAAAAAAAAAAAAAAAAAAAAAAAAAAAAAAAAAAAAAAAAAAAAAAAAAAAAAAAAAAAAAAAAAAAAAAAAAAAAAAAAAAAAAAAAAAAAAAAAAAAAAAAAAAAAAAAAAAAAAAAAAAAAAAAAAAAAAAAAAAAAAAAAAAAAAAAAAAAAAAAAAAAAAAAAAAAAAAAAAAAAAAAAAAAAAAAAAAAAAAAAAAAAAAAAAAAAAAAAAAAAAAAAAAAAAAAAAAAAAAAAAAAAAAAAAAAAAAAAAAAAAAAAAAAAAAAAAAAAAAAAAAAAAAAAAAAAAAAAAAAAAAAAAAAAAAAAAAAAAAAAAAAAAAAAAAAAAAAAAAAAAAAAAAAAAAAAAAAAAAAAAAAAAAAAAAAAAAAAAAAAAAAAAAAAAAAAAAAAAAAAAAAAAAAAAAAAAAAAAAAAAAAAAAAAAAAAAAAAAAAAAAAAAAAAAAAAAAAAAAAAAAAAAAAAAAAAAAAAAAAAAAAAAAAAAAAAAAAAAAAAAAAAAAAAAAAAAAAAAAAAAAAAAAAAAAAAAAAAAAAAAAAAAAAAAAAAAAAAAAAAAAAAAAAAAAAAAAAAAAAAAAAAAAAAAAAAAAAAAAAAAAAAAAAAAAAAAAAAAAAAAAAAAAAAAAAAAAAAAAAAAAAAAAAAAAAAAAAAAAAAAAAAAAAAAAAAAAAAAAAAAAAAAAAAAAAAAAAAAAAAAAAAAAAAAAAAAAAAAAAAAAAAAAAAAAAAAAAAAAAAAAAAAAAAAAAAAAAAAAAAAAAAAAAAAAAAAAAAAAAAAAAAAAAAAAAAAAAAAAAAAAAAAAAAAAAAAAAAAAAAAAAAAAAAAAAAAAAAAAAAAAAAAAAAAAAAAAAAAAAAAAAAAAAAAAAAAAAAAAAAAAAAAAAAAAAAAAAAAAAAAAAAAAAAAAAAAAAAAAAAAAAAAAAAAAAAAAAAAAAAAAAAAAAAAAAAAAAAAAAAAAAAAAAAAAAAAAAAAAAAAAAAAAAAAAAAAAAAAAAAAAAAAAAAAAAAAAAAAAAAAAAAAAAAAAAAAAAAAAAAAAAAAAAAAAAAAAAAAAAAAAAAAAAAAAAAAAAAAAAAAAAAAAAAAAAAAAAAAAAAAAAAAAAAAAAAAAAAAAAAAAAAAAAAAAAAAAAAAAAAAAAAAAAAAAAAAAAAAAAAAAAAAAAAAAAAAAAAAAAAAAAAAAAAAAAAAAAAAAAAAAAAAAAAAAAAAAAAAAAAAAAAAAAAAAAAAAAAAAAAAAAAAAAAAAAAAAAAAAAAAAAAAAAAAAAAAAAAAAAAAAAAAAAAAAAAAAAAAAAAAAAAAAAAAAAAAAAAAAAAAAAAAAAAAAAAAAAAAAAAAAAAAAAAAAAAAAAAAAAAAAAAAAAAAAAAAAAAAAAAAAAAAAAAAAAAAAAAAAAAAAAAAAAAAAAAAAAAAAAAAAAAAAAAAAAAAAAAAAAAAAAAAAAAAAAAAAAAAAAAAAAAAAAAAAAAAAAAAAAAAAAAAAAAAAAAAAAAAAAAAAAAAAAAAAAAAAAAAAAAAAAAAAAAAAAAAAAAAAAAAAAAAAAAAAAAAAAAAAAAAAAAAAAAAAAAAAAAAAAAAAAAAAAAAAAAAAAAAAAAAAAAAAAAAAAAAAAAAAAAAAAAAAAAAAAAAAAAAAAAAAAAAAAAAAAAAAAAAAAAAAAAAAAAAAAAAAAAAAAAAAAAAAAAAAAAAAAAAAAAAAAAAAAAAAAAAAAAAAAAAAAAAAAAAAAAAAAAAAAAAAAAAAAAAAAAAAAAAAAAAAAAAAAAAAAAAAAAAAAAAAAAAAAAAAAAAAAAAAAAAAAAAAAAAAAAAAAAAAAAAAAAAAAAAAAAAAAAAAAAAAAAAAAAAAAAAAAAAAAAAAAAAAAAAAAAAAAAAAAAAAAAAAAAAAAAAAAAAAAAAAAAAAAAAAAAAAAAAAAAAAAAAAAAAAAAAAAAAAAAAAAAAAAAAAAAAAAAAAAAAAAAAAAAAAAAAAAAAAAAAAAAAAAAAAAAAAAAAAAAAAAAAAAAAAAAAAAAAAAAAAAAAAAAAAAAAAAAAAAAAAAAAAAAAAAAAAAAAAAAAAAAAAAAAAAAAAAAAAAAAAAAAAAAAAAAAAAAAAAAAAAAAAAAAAAAAAAAAAAAAAAAAAAAAAAAAAAAAAAAAAAAAAAAAAAAAAAAAAAAAAAAAAAAAAAAAAAAAAAAAAAAAAAAAAAAAAAAAAAAAAAAAAAAAAAAAAAAAAAAAAAAAAAAAAAAAAAAAAAAAAAAAAAAAAAAAAAAAAAAAAAAAAAAAAAAAAAAAAAAAAAAAAAAAAAAAAAAAAAAAAAAAAAAAAAAAAAAAAAAAAAAAAAAAAAAAAAAAAAAAAAAAAAAAAAAAAAAAAAAAAAAAAAAAAAAAAAAAAAAAAAAAAAAAAAAAAAAAAAAAAAAAAAAAAAAAAAAAAAAAAAAAAAAAAAAAAAAAAAAAAAAAAAAAAAAAAAAyMDIxOjA1OjMxIDAxOjUyOjA3ADIwMjE6MDU6MzEgMDE6NTI6MDcAAABSAG8AbQB1AGwAbwAAAP/hCxlodHRwOi8vbnMuYWRvYmUuY29tL3hhcC8xLjAvADw/eHBhY2tldCBiZWdpbj0n77u/JyBpZD0nVzVNME1wQ2VoaUh6cmVTek5UY3prYzlkJz8+DQo8eDp4bXBtZXRhIHhtbG5zOng9ImFkb2JlOm5zOm1ldGEvIj48cmRmOlJERiB4bWxuczpyZGY9Imh0dHA6Ly93d3cudzMub3JnLzE5OTkvMDIvMjItcmRmLXN5bnRheC1ucyMiPjxyZGY6RGVzY3JpcHRpb24gcmRmOmFib3V0PSJ1dWlkOmZhZjViZGQ1LWJhM2QtMTFkYS1hZDMxLWQzM2Q3NTE4MmYxYiIgeG1sbnM6ZGM9Imh0dHA6Ly9wdXJsLm9yZy9kYy9lbGVtZW50cy8xLjEvIi8+PHJkZjpEZXNjcmlwdGlvbiByZGY6YWJvdXQ9InV1aWQ6ZmFmNWJkZDUtYmEzZC0xMWRhLWFkMzEtZDMzZDc1MTgyZjFiIiB4bWxuczp4bXA9Imh0dHA6Ly9ucy5hZG9iZS5jb20veGFwLzEuMC8iPjx4bXA6Q3JlYXRlRGF0ZT4yMDIxLTA1LTMxVDAxOjUyOjA3LjE0MDwveG1wOkNyZWF0ZURhdGU+PC9yZGY6RGVzY3JpcHRpb24+PHJkZjpEZXNjcmlwdGlvbiByZGY6YWJvdXQ9InV1aWQ6ZmFmNWJkZDUtYmEzZC0xMWRhLWFkMzEtZDMzZDc1MTgyZjFiIiB4bWxuczpkYz0iaHR0cDovL3B1cmwub3JnL2RjL2VsZW1lbnRzLzEuMS8iPjxkYzpjcmVhdG9yPjxyZGY6U2VxIHhtbG5zOnJkZj0iaHR0cDovL3d3dy53My5vcmcvMTk5OS8wMi8yMi1yZGYtc3ludGF4LW5zIyI+PHJkZjpsaT5Sb211bG88L3JkZjpsaT48L3JkZjpTZXE+DQoJCQk8L2RjOmNyZWF0b3I+PC9yZGY6RGVzY3JpcHRpb24+PC9yZGY6UkRGPjwveDp4bXBtZXRhPg0KICAgICAgICAgICAgICAgICAgICAgICAgICAgICAgICAgICAgICAgICAgICAgICAgICAgICAgICAgICAgICAgICAgICAgICAgICAgICAgICAgICAgICAgICAgICAgICAgICAgIAogICAgICAgICAgICAgICAgICAgICAgICAgICAgICAgICAgICAgICAgICAgICAgICAgICAgICAgICAgICAgICAgICAgICAgICAgICAgICAgICAgICAgICAgICAgICAgICAgICAgCiAgICAgICAgICAgICAgICAgICAgICAgICAgICAgICAgICAgICAgICAgICAgICAgICAgICAgICAgICAgICAgICAgICAgICAgICAgICAgICAgICAgICAgICAgICAgICAgICAgICAKICAgICAgICAgICAgICAgICAgICAgICAgICAgICAgICAgICAgICAgICAgICAgICAgICAgICAgICAgICAgICAgICAgICAgICAgICAgICAgICAgICAgICAgICAgICAgICAgICAgIAogICAgICAgICAgICAgICAgICAgICAgICAgICAgICAgICAgICAgICAgICAgICAgICAgICAgICAgICAgICAgICAgICAgICAgICAgICAgICAgICAgICAgICAgICAgICAgICAgICAgCiAgICAgICAgICAgICAgICAgICAgICAgICAgICAgICAgICAgICAgICAgICAgICAgICAgICAgICAgICAgICAgICAgICAgICAgICAgICAgICAgICAgICAgICAgICAgICAgICAgICAKICAgICAgICAgICAgICAgICAgICAgICAgICAgICAgICAgICAgICAgICAgICAgICAgICAgICAgICAgICAgICAgICAgICAgICAgICAgICAgICAgICAgICAgICAgICAgICAgICAgIAogICAgICAgICAgICAgICAgICAgICAgICAgICAgICAgICAgICAgICAgICAgICAgICAgICAgICAgICAgICAgICAgICAgICAgICAgICAgICAgICAgICAgICAgICAgICAgICAgICAgCiAgICAgICAgICAgICAgICAgICAgICAgICAgICAgICAgICAgICAgICAgICAgICAgICAgICAgICAgICAgICAgICAgICAgICAgICAgICAgICAgICAgICAgICAgICAgICAgICAgICAKICAgICAgICAgICAgICAgICAgICAgICAgICAgICAgICAgICAgICAgICAgICAgICAgICAgICAgICAgICAgICAgICAgICAgICAgICAgICAgICAgICAgICAgICAgICAgICAgICAgIAogICAgICAgICAgICAgICAgICAgICAgICAgICAgICAgICAgICAgICAgICAgICAgICAgICAgICAgICAgICAgICAgICAgICAgICAgICAgICAgICAgICAgICAgICAgICAgICAgICAgCiAgICAgICAgICAgICAgICAgICAgICAgICAgICAgICAgICAgICAgICAgICAgICAgICAgICAgICAgICAgICAgICAgICAgICAgICAgICAgICAgICAgICAgICAgICAgICAgICAgICAKICAgICAgICAgICAgICAgICAgICAgICAgICAgICAgICAgICAgICAgICAgICAgICAgICAgICAgICAgICAgICAgICAgICAgICAgICAgICAgICAgICAgICAgICAgICAgICAgICAgIAogICAgICAgICAgICAgICAgICAgICAgICAgICAgICAgICAgICAgICAgICAgICAgICAgICAgICAgICAgICAgICAgICAgICAgICAgICAgICAgICAgICAgICAgICAgICAgICAgICAgCiAgICAgICAgICAgICAgICAgICAgICAgICAgICAgICAgICAgICAgICAgICAgICAgICAgICAgICAgICAgICAgICAgICAgICAgICAgICAgICAgICAgICAgICAgICAgICAgICAgICAKICAgICAgICAgICAgICAgICAgICAgICAgICAgICAgICAgICAgICAgICAgICAgICAgICAgICAgICAgICAgICAgICAgICAgICAgICAgICAgICAgICAgICAgICAgICAgICAgICAgIAogICAgICAgICAgICAgICAgICAgICAgICAgICAgICAgICAgICAgICAgICAgICAgICAgICAgICAgICAgICAgICAgICAgICAgICAgICAgICAgICAgICAgICAgICAgICAgICAgICAgCiAgICAgICAgICAgICAgICAgICAgICAgICAgICAgICAgICAgICAgICAgICAgICAgICAgICAgICAgICAgICAgICAgICAgICAgICAgICAgICAgICAgICAgICAgICAgICAgICAgICAKICAgICAgICAgICAgICAgICAgICAgICAgICAgICAgICAgICAgICAgICAgICAgICAgICAgICAgICAgICAgICAgICAgICAgICAgICAgICAgICAgICAgICAgICAgICAgICAgICAgIAogICAgICAgICAgICAgICAgICAgICAgICAgICAgICAgICAgICAgICAgICAgICAgICAgICAgICAgICAgICAgICAgICAgICAgICAgICAgICAgICAgICAgICAgICAgICAgICAgICAgCiAgICAgICAgICAgICAgICAgICAgICAgICAgICA8P3hwYWNrZXQgZW5kPSd3Jz8+/9sAQwAHBQUGBQQHBgUGCAcHCAoRCwoJCQoVDxAMERgVGhkYFRgXGx4nIRsdJR0XGCIuIiUoKSssKxogLzMvKjInKisq/9sAQwEHCAgKCQoUCwsUKhwYHCoqKioqKioqKioqKioqKioqKioqKioqKioqKioqKioqKioqKioqKioqKioqKioqKioq/8AAEQgBBwDVAwEiAAIRAQMRAf/EAB8AAAEFAQEBAQEBAAAAAAAAAAABAgMEBQYHCAkKC//EALUQAAIBAwMCBAMFBQQEAAABfQECAwAEEQUSITFBBhNRYQcicRQygZGhCCNCscEVUtHwJDNicoIJChYXGBkaJSYnKCkqNDU2Nzg5OkNERUZHSElKU1RVVldYWVpjZGVmZ2hpanN0dXZ3eHl6g4SFhoeIiYqSk5SVlpeYmZqio6Slpqeoqaqys7S1tre4ubrCw8TFxsfIycrS09TV1tfY2drh4uPk5ebn6Onq8fLz9PX29/j5+v/EAB8BAAMBAQEBAQEBAQEAAAAAAAABAgMEBQYHCAkKC//EALURAAIBAgQEAwQHBQQEAAECdwABAgMRBAUhMQYSQVEHYXETIjKBCBRCkaGxwQkjM1LwFWJy0QoWJDThJfEXGBkaJicoKSo1Njc4OTpDREVGR0hJSlNUVVZXWFlaY2RlZmdoaWpzdHV2d3h5eoKDhIWGh4iJipKTlJWWl5iZmqKjpKWmp6ipqrKztLW2t7i5usLDxMXGx8jJytLT1NXW19jZ2uLj5OXm5+jp6vLz9PX29/j5+v/aAAwDAQACEQMRAD8A8Bp2w02pqAI9h9qNh9qkooAj2H2o2H2qSjNAEew+1Gw+1SZozQBHsPtRsPtUmaM0AR7D7UbD7VJmjNAEew+1Gw+1SZozQBHsPtRsPtUmaM0AR7D7UbD7VJmjNAEew+1Gw+1SZozQBHsPtRsPtUmaM0AR7D7UbD7VJmigCPYfajYfapKKAIypFFSUUAQ1NUNTUAFWbDTrzVLjyLCBppOpC9APUnoKq17N4d0iPRtFhgRAsrKGmbuzkc/4VxYzFfVoJpXb2PVyzL3jqrTdorc4VPhzrLqC0tmh/utI2R+S0v8AwrfWP+fmx/7+P/8AE16bRXh/2piPL7j6r+wcF2f3nmX/AArfWP8An5sf+/j/APxNH/Ct9Y/5+bH/AL+P/wDE16bRR/aeI8vuH/YOC7P7zzL/AIVvrH/PzY/9/H/+Jo/4VvrH/PzY/wDfx/8A4mvTaKP7TxHdfcH9g4Ls/vPMv+Fb6x/z82P/AH8f/wCJo/4VvrH/AD82P/fx/wD4mvTaKP7TxHdfcH9g4Ls/vPMv+Fb6x/z82P8A38f/AOJo/wCFb6x/z82P/fx//ia9Noo/tPEd19wf2Dguz+88y/4VvrH/AD82P/fx/wD4mj/hW+sf8/Nj/wB/H/8Aia9Noo/tPEd19wf2Dguz+88y/wCFb6x/z82P/fx//iaP+Fb6x/z82P8A38f/AOJr02ij+08R3X3B/YOC7P7zzL/hW+sf8/Nj/wB/H/8AiaP+Fb6x/wA/Nj/38f8A+Jr02ij+08R3X3B/YOC7P7zzL/hW+sf8/Nj/AN/H/wDiaP8AhW+sf8/Nj/38f/4mvTaKP7TxHdfcH9g4Ls/vPMv+Fb6x/wA/Nj/38f8A+Jqte+BNas4TIscVyByRA5JH4EAn8K9WoprNMQnrYmWQYNqyuvmeDEFWIYEEHBB7UV23xF0iKCWDU4ECGZjHNju2Mg/XAP5VxAr6HD1lXpqoup8ZjMLLC15UZdBaKKK3OQhqU1FUpoAaTXvleBGvfa8HOPsfP9D67hr/AJe/9u/qdP4C0my1nX5bbUoPPiW2Zwu5lwQyjPBHqa19TfwHaG8tV0+dbqEvGCGkIDjI/veoqp8Lv+Rqn/69H/8AQ0p/izwnBbf2lqy6xBLIZmk+zBRu+Z+md3bPp2rnpRawqnCKb1vdLY7K84yzB06lSUVZWSb3foMTQtN1H4bNqllbCO/tDiZ/MY7tp54Jx90g8CorvRdO034dW19cwB9SvpAYnLsNik56Zx90en8VXvhhMZrjUtMliMltPDvfP3Qc7SPxDfpUPxNuGXWLLTkQR21rbgxqB6nH5YUD8DTcaf1b29tbW2633+4Ualb699U5nZS5r36W+H0v0Ni70fwdo2k6fcatYOPtUa/Oskh52gkkBveqreCNOs/HdlasjT6deRSOsbucqVHTIOccitLxP4evvEPh7RYdPVCY41Ls77QoKAZq/e3UT/EPRbRGDS29vMXAPTcox/6Ca7ZUYOVpQSScbab339Ty4YmqoXhUbbU+ZXbtbZ+Rz+oDwDpt9PZ3GnTiaFirbXkIz/33TPD+ieHV8CrrOt2TSlWYSOsj5I37RwGA9Kb4u8JQG51PVv7YgD/NL9m2jdnH3c7v6VpeH9Ml1r4T/YLd0SSZ2wz5wMS57fSsYwk68oygtE7aL5HTOpBYWE4VpayipNt6aO9jD8UeHdGPhmHXvDgeOBmCvGWYgjJGfm5BDcdaueIvDGkWPiDw7bWtpshvJSs6+Y53jcg7nj7x6U7xXC3hz4e2ehtumkkk+eVUIQfMXIz65IwPQE1qeLuPFfhL/ruf/Qo6JUqfvXik/cv5NvUKeIrN07TbjepZ33SWlynrFn4F0K/+x3+myiXYH+R5CMH/AIF7VB4P8O6BrzapM9mZLdLoi3DSOpVDyBwf51oeLvCMGta39sl1mCzbylTynUE8Z5+8PWsvwHdSWPgzXbuD/WQAyLn1CZqnG2J5ZwXLrbRdERGo5YFzpVZOfup3b0bfT/gFbQvC9g+p+I7TUIPO+wL+4Jdht+8QeDzwF60eHtA0a08Iv4h8RRPcxu2EjQn5Ru29ARkk56nGK7E2qDUdW1G3X9zfadG4cfxMA4/9B21zU/8AyQ+H/eH/AKPNJ0IU9eVOyk/x0/AqOLq19OZrmlTT12utbdtUUfEfh7SP7P0vWdER0tLuZInhYnvnnk5B4IPPpir2reF9HtvH2jadDZ7LW5jdpY/Mc7iA2Oc5HQdK5C21nUJ4rHTJbktZQzo0cWxflOfXGe5716Nrv/JUfD//AFyf/wBBesafsqqc1HrHp5628jpr/WMNJU5Tb92pbV7W0v5oxfEfhPTbDxXokVra7LK8lEcse9iCQwzyTkZDfpTB4P0+7+I1xpscbRWFvCsrRq5JbhflyTnktXTzD+2JCoYmbStYQ47lSw/TDn/vmo9N/wCSp6v/ANecf8krqlh6TmvdVnJfk9PvR58MbiFSacnzRg+vmrP1s9zIXQPC3iW21C10C3ktryz4WUs21jzjqTkEj2Nea13nhbQ9cmjvL/Q9UhshLO0bq8YYttPuD61wdeXitYwlyWbv6PsfQZfeNSpTVTmStu22tNb389jkPiT/AMi5b/8AX2v/AKA9eZivTPiV/wAi3b/9fa/+gPXmQr2ss/3derPls+/31+iHiikFFemeERGpDUZqQ0ANNe+14Ea99rwc4+x8/wBD67hr/l7/ANu/qdn8Lv8Akap/+vR//Q0qjr3hnWX1vUrpNNnMDXEsgkC8FdxOfyrM0O81axv2k0ETG5MZVvJh8w7cjPGDxkDmti88S+M0tJPtzXccDKVcy2QRcHjGdlcMJ0pYdQmno29D1qlKvDGOrScdUlZt3/A09Ez4e+Gmoaplo7m/byoWHBA+6CPcfOfwqbxug1vwfpWvxqA6gLLjtu68+zDH41xz6nq2rWVtpW+W5hh/1NvFECRgEfwjJ4z61Ob3xBZ6WuiyR3MVtcEhLaS25ck5+XK56+ner+sRdN07Pltb573M/qU411Wclz8ze/2bWt9yOw8dXt1ZeGdDNndTW5dAGMMhTd8i9cVgfD2R5fHNu8rM7skhLMck/KepqpqH/CU6pawW9/ZX80VvxEpsyu3jHZRngd6paf8A2zpOrobC3uYb9VO1Ps5L4I5+Ug9valUrOWIjVs7K34Do4VRwU6HNHmalrfvc3PFHhnWbvxRf3Ftps8kTylldVyCPWte2JX4JzFSQQx5H/XcVhXPjHxdZuEvLqe3ZhkLNaohI/Fax117Ul0VtJW5P2FjkxbF5+bd1xnr70/bUYTnKN/eTWtt2JYXFVaVOE3G0JRel9Ut+h2d3I938FoZrljLIj/KzHJGJSo/TitTxd/yNXhL/AK7n/wBCjrzga7qI0Q6R9o/0EnPk7F/vbuuM9eetS3fibV767tLm6vDJNZtugby0Gw5B7Dn7o6+lV9cp8lrO9or7nqQssqqrzJq15vrtJWXT7zqvH/h/VNS8T/aLCwmni8hF3ouRkZ4o8LwyW3gbxRBcIY5Y0kV0YcqRGcisL/hPfE3/AEEz/wB+Y/8A4mqC+ItVWK+jW7IS/LG5Hlr+8LcHtx17YqZYigqrqxvrft1RUcHi3h1h58to2ta/RryPTfCeoC/+HZGcvbQyQPnttBx/46VrHt7eXU/gzHbWEbXE6tzHHy3ExYjHrjnFcRp/iDVNLs5rWwujDBMSXTYpzkY7g44pdJ8Q6poe8aZdNCshyybQyk+uCDVrGwlGMZp/C4v8NvuM3lVWMpzptfGpLfpfR/eddqWkw6X4J0MXFlFBqDXcYdvLAkIyxwT16Yrb13/kqPh7/rk//oL15rqWvanq11FcahdtLJD/AKv5QAvOegGP8ipZ/E+sXOp2+ozXhe7tgRFJ5aDaDnPGMHqetL63SWkU7Xj+BX9m4iVpSkr2nffeW1vJHf8Ah2/8r4la7YsRtnIkXP8AeXH9GP5VZ0+VE+LGqoxwz2aFffAT/GvL01rUE1r+1kuCL4sWMoVepGDxjHT2p0mu6lNrA1V7pvtoIxMoCngY6AY6VUcfFRSs9JX+Wv8AmRPKJylJprWCj81b8NP+AeheBtNvNGvtcm1SB7aLIw8gwrAFiSD3GO9eW1t6h4w13U7NrW8vmaFxh1VFTcPQkAH8KxK5MRWpzjGFO9lffzPQwWGrU5zq1mrytttordTkPiV/yLdv/wBfa/8AoD15kK9N+JX/ACLdv/19r/6A9eZCvdyz/d16s+Sz7/fX6IdRRRXpnhERqQ1GakNADDXv1eAmvfq8HOPsfP8AQ+u4a/5e/wDbv6nZ/C7/AJGqf/r0f/0NK6bQPEV5q/i7VtF1BYpbSLzQg2YOFcLg+owf0rmfhb/yNU//AF6P/wChpWj4O/5Kjrf/AG8f+jlqcJOUadNJ7yZeYU4Tr15SWqgmvLUqeA9PWHx/eogJjs1lCsfZgo/QmtHx3fPJpnh/X7LClX3oSM7Syqwz/wB8mjw15lo3jDUIkLSJJIsWBklgXOB+JWodRilufg7bGWN0ktHXKupBGHKDg+zVUVbDOC7N/c1b8iZy5sdGrLWzjH/wKLv+ZqaP4l1K8+H+oarPJGbu3ZxGwQADAUjj8ayfA2oXGueLbvVtTZWeC02llXaByMcfQGjw7/ySXWP9+T/0Fah8DxGDwd4hvUDGR4zEgUZOQhIx+LihVJynS5ndWu/lcUqNKnSxHLFJ83KvR20JPiWq3lho2qRjCzRkH6MFYf1rz+vQ9dhlvPhLp00yNHJZugZXUggAmPofqK88rz8drV5+6T/A9nKXbDez/lbX4hRRRXEesFFFFABRRVW51Kzs2xc3EcZ9CaaTbsiZSUVduxaoqG2vLe7TfbTRyr3KMDipqTTWjGmmroKKKKBhRRRQByHxK/5Fu3/6+1/9AevMhXpvxK/5Fu3/AOvtf/QHrzIV9Rln+7r1Z+f59/vr9EOooor0zwiI1IajNSGgBhr36vATXv1eDnH2Pn+h9dw1/wAvf+3f1Ot+G93bWXiWaS8uIrdDasoeVwozuTjJ+ldTajw74b1fUNdOtw3MtzvIhjkViNzbsADJJyAK8porgo4z2UFHlTtqj2cTlqr1ZT52lJJNLqkeh6V4lTSfAt9fwT239o3N48ywM4LDcwB+XOcYBqxa+KV8Q+B9Xj1i5tYrzY4ij3BN42grgE8ncDXmhoprHVEkulrW/UmWU0ZNy+1zXv28vQ7rQb+0h+F+q2st1Ck8jSbImkAZvlXoM5qbSNdi8OfDdZbC5tW1GacuYWYMwy2OVzn7q15/RURxco2stUrf8EueWwm5cz0cuZr9PQ9HTxIviXwBqsWr3NpDeKT5abghcKFcYBOTyCK84oorKtXlWs5bpWOnC4SGF5lT2bvbsFFJ3pawOwK53W/FkGmFkgQTOvDHPAPpUniXV3tbVra0ObiQYyp+4P6V5jqkuZVVixVV6d2avRwmFVR809jxMxzB0FyU9+5v3PjzUZXLxssKL1AUbfzNcxc3l/eXTT+c7ljkl+/0zUUsgSKNWUnHPH+e1PLRpGqh2LZBAA7fSvap0oU/hifLVcRVr/xJNlqy1TULeQywXUiyrkZ3ZP8A9eup0DxLeeYz3s07ODhg3zIw/Pg/SuD87ypSU+TPcda2YdSk+wqsZVQpzjJ5+pqK9GMlsa4XFTpy+J6HrNhqltqOfs7gsoyV7irteW6Nq5sL5LqRpDkgN8x5HpXplrcxXdsk8Dh0YZBFeBiKDpS02Pr8Fi1iY67omooormPQOQ+JX/It2/8A19r/AOgPXmQr034lf8i3b/8AX2v/AKA9eZCvqMs/3derPz/Pv99foh1FFFemeERGpDUZqQ0AMNe/V4Ca9+rwc4+x8/0PruGv+Xv/AG7+pLb273PmCMruRdwUnluQMD35z9AauHSJYWmFwY8Rg4cOduMp8wwDkYkB/H8KrWBu1vUbT43kuBnasabz0OeMemaknuL+3QWt0JItsXleXKm0hd27uM9QOfYDoK8aPLy3aPp5+0c+WLX6l640JEu3sre7hkmW7a3QsHXzDwAuMcHPc8c9axavTX1/HeRXM4MU4cXKExBdxOCHxjnOAfeqNFRxb91WHRVRL33cKKntbK7vpGSytZrhlGSIoyxA/Cmi1uGdlWCUsjBXAQ5Uk4APoSePrUcrtexpzRva5FRUrWtyjyI9vKrQjMgKEFB6n06jr602KGWeQRwRvK5BIVFycAZJx9BmlZ3sPmVr3I84rJ1/XItHtNz8yPwg/qa3p9Pu4IPNnt5I48qNzDjLLuX8xzXC/EMWv9nweYf36vuUeq98/jiuihTUqqjJHJi6zhh5VKbWhzF94okuInAQbc5JQ49uRXMyXsb3okYMeeQamubiK1t0RRukkG8sF6f55/z0oiCSVcxRswb+I19PSpQgtFY+BxFepUlq7s0ljW5RkQZfIAPXI4/+v+dU57aaC78rGdp+6a6Pw1p8NoRPqTrFzxv4GK19c0Sy15hcaRcxiZRg4brWLxEYVOV7dzqWClVo86+Lt1OEkSRH3OrJ7MMVatb5o4yEaMlhzuQE/wAq6Gy8PMkn/E+uY4rcDJGclh9O1TtoGgzSEabcCUdPuH5f605Yins9fyFDBVl7ydvJuz+4yYrk/ZAynBPBMYxiup8J6/LHMLe8dRDgsX7s2PX8K5TVtLutHlFuELwyjckqv8rA+vFN0dpBdIsbKhByrs+Mf/WrKpThVpt9DehXqYeuk90e10VFauXtY2Y5JUZI9alr5rY+6TurnIfEr/kW7f8A6+1/9AevMhXpvxK/5Fu3/wCvtf8A0B68yFfUZZ/u69WfAZ9/vr9EOooor0zwiI1IajNSGgBhr36vATXv1eDnH2Pn+h9dw1/y9/7d/U3PB9zBaeI45bqaOGPypV3ySbBkoQPm7c963tU1DSXt3mmks726t7NEigaZpkVvN7OcM5wckHp9K4WivLp4hwp8lj6Ctgo1ayquTW34Hb2C6DcTW8t9c2ci/Z7WKSOV+VGz5yCW4weMAEjjoKo3DaH/AGZLaxpab109ZVnDnzDOJMbeuPu84xXLUU3iLq3KiVgbSvzvp+B02lT/AGjwv9gstUh0y6S6MshlmMQlUqAPmHoR0/GptR1yJ/EljHDco8CyWn2y6AAE8kZ5fPXHP6VydFL6xJRSX9WL+pQc3Jve/wCP/DadjurzWNK1Kw1i4uLiOO8bNsQpANzEJgUdfUhRj8BROfDltqFq1lLbqgMwEsUu392YWChvmzksQOcE8jFcLRireLb1cVf/AINzFZdGKtGbS109Vb8Oh1Wv6haXHh8xQXMUknm2h2qwJwtuVb8jxXivxGtHPlXIbIJwUz1GP8/nXoBGayfEVg2o6FcQx7fMwCue+O1OliH7dTYsRgl9UlSi79fuPC3ZnYmXnIJyO3pXeeHtKiXQo7uYAYUElugrl7m38tvLbkK3zKRjn0z3r0vw5bR3Wl23A2heuOn+f89q9jGVrU1Y+ZyzD81Zp72OcmvHu0fydDe5iUHEkwKhvpxWdp8d2mrIIrF7MM2CDyB716De6Rpxbc7vnHTzmx+War2MWkku1uY1jhYB5MYG7rjPeuGOJioPlierPAzdRc01+H+V/wATO8S2LW1rFJHEZyVw/I4qjod1q8a7bOCzZcZ8oOBnnoa7NZoZtxR0dO2GBzWLby6S93iBY4pc/MhjCN/9esoVW6bi43Omrh0qyqRna5S8ZQtceG4roQtC6P8AvIz/AAbuvT3xXG6JMYtUhd4/MCsCfU16Zr1msnhi6VBx5ecD25zXnug2s9z4qWzildItzRybOCyZ5B9uOldeEqJ0JJ9LnnZhSksXBrd2+89ctpDLbo7IUJGSrDkVLSAYA5J+tLXhPc+tWiOQ+JX/ACLdv/19r/6A9eZCvTfiV/yLdv8A9fa/+gPXmQr6jLP93Xqz4DPv99foh1FFFemeERGpDUZqQ0AMNe/V4Ca9+rwc4+x8/wBD67hr/l7/ANu/qFFFFeEfXhRRRQAUUUUAFFFFABUcq70ZckZGMg9KkppyaBPY8ttfD73euana3CkCN1cyL8wYqSGXPqc/pXVxsNH0KOGAltqcMO/ep/EGmyQ6be3uklo72RNrKoysmSByPX3rB0+9kk8O2y3IdJol8t1cYII45/nXrObrxUummnyPnY0o4Sbglq03fyuZd5q9xcy+UxIyefXFOv7FbrT0jiljiIO4DzdoY+9PvtO+3w5s5PKc9Wxkg1V03SIrCFl1bTJryXdnzIoxKMc++fSutOCimtGuh50lUlJxkrp9f6uaWhJ9nhMepC3IV96yNIG2n1GelXdfW1urcXFjNFJNAOsbgkexx0qSx1DSrZZFttJeJgQ21lVCe2Oe/tVHUNFmuby51u5EsW8BbeFzhgD1LY9STxXNe9XmlodnK40OSHvfp53sbmgXhv8AT1SXcUdMOre+Qf5GnaBZ2cHiDUpY1VppJN6SBgco43cD2PB+opdIjEduEhHz+Xgcd/8A9dW/DOiyaLpwin8gSEAEQKQBj1J5J965KkopTs7X6HpUYSk6d1e27+RtUUUVxHrHIfEr/kW7f/r7X/0B68yFem/Er/kW7f8A6+1/9AevMhX1GWf7uvVn5/n3++v0Q6iiivTPCIjUhqM1IaAGGvfq8BNe/V4OcfY+f6H13DX/AC9/7d/UKKKK8I+vCiiigAooooAKKKKACiiigCveecLVzbRrLJjhGOA3tXncmoalJcG11m1eKQpgOSNvHQAAcdDySc16YRVW80+2v1UXCZKH5WUkEfiP5V00K0aeklc4MXhZ17OMrW6dGecaekqXe3ecHkc1tXem3dyoEOA30qvqelPZzSiBiHjbjPcdqrt4ivLO38uaPcuMbhXovmqNSgeJFQopwq3LFto19FcKJrkqc9BiumuIRLaqJGJWPBJPc1w0GuzSXIKhmJPA612FtJNcQp9oO3IB21hXjNNOR1YOpSknGFyzp0Cxg9RnC8dq2BWPDqNrEhnuJNkKKxDE9cdTjqfwzXGXfju9l1Z5rOUJZo+2OPb99fU/X9Kwjh6leTsdk8ZRwsFzPft+Z6ZRXHWPxDtJcLe27xtjlk5BP0PT862k8U6M8asL+LkdOcisp4erB2cTop43D1FeM1+Rj/Er/kW7f/r7X/0B68yFd9491rT9R0KGGyuVldblWIAI42sO4964EV9HlsXHD2a6s+JzycZ4xuLurIdRRRXoniERqQ1GakNADDXv1eBGvfa8HOPsfP8AQ+u4a/5e/wDbv6hRW74U02y1G9vf7TjeWG2spLjYj7SSpXv9Cas3Gj6Zqmgzal4ejuopbaVI5rWZg+d5wpUj37f5PkxoSlDmXnp10Po54unCp7OSfTXprsczRWzP4V1OHAUQTv5ywPHDOrtFIxwFcA/Lk8elW7Hw00Ot/Y75Le+bypS0NvdgFGUfxEdCD2pKhUbs1YcsZQUXJSTOboresvB2q30Fs8P2dWul3xRSThXZP723riiz8HarfW0E0H2cC4DmFXnCtIVJyAO54oVCq9osbxmHV7zWnn6/5P7jBoroU8NT6hY6YNPtBHcTQzSySST8SBHA6H7uM4qL/hEdVN/b2sawzG4iM0csUoaPYOrFvQZH5ih0KnRX/wCCJYyhqnJLfqul/wDIw6K0tU0G70q2t7i4aB4bgsIpIJQ6tjqQR9a6LVfDATR9Hs9Kt7Se8uhvkmSfc7nBORzjYPX6U44eo76bfrsTPG0Y8ut1K+vTTe/ocXR3rbbwlqf2m1hhNtcLdsyRTQTB4yygkqWHQ4FZ97pk9jepZyGKWdgPkgkEhDEkbTj+LI6VEqU4q7RtDEUpu0ZJnO69ZedCJ4xllG1vcdv1/nXE6mhCKjrjHXNetfE3QoNC8LQ6hps0kp0+4WHUsHIEu1X/AAGCR+Iqlq3w4v49Nuru7igYQRiZ1ScM/lH+PaOcdefY16dOnVo/Er+h4VetQxLbhK1++l/6/U8qtQlufMyFxzVv7XqOqxObX9zZxkB5ScF/Ye3Bya6lPh68zW91HNY3Nmk0P2uK2vUkkhSRgBuVTwDnHHrWz8SfAtzYa5Nd+HbeKOwt7mKxggiYkozIpCkZ6Enr6mulq/vW18/68jz4yUW4X08vl/n8zg/EN+2neE1toyBFdqFjiA/1XqMk9Mg49K4RPu4ycema9k8VfDeW/wDB15f3Or2FtfaJIsEls99H5YY53BmJ4bj5R1PSuc1f4a6je+Ivsvh7TV0myt9Lt7y7mvr9TDEHX77SnAXcQcL7E4A4HZhqLhT1WrPOx2IjUre67pJJHBZcA+gHORSxvuj4PFdO3wx1tLG8vr2+0mC0tZ3txJLqUSJcSIu5ljJOHIHuOcjqDjmEw64XntW0lY5Yy5noST5MIOeM1CKmnBES8kjIqEVrS+Ewr/GOooorQwIjUhqOpTQAw174CGUEcgjIrwM16n4N8UW+pafDY3MgS9hUIFY480DoR6nHUV42a0pThGcelz6bh7EQp1Z05Ozla3yv/megeHdZi0S8uJbi1N3FcWz27xiTZwxGecH0/Wrlx4rWG3jttA06PTYEnSdx5hlaR1OVyx7ZA4rnaK8ONepGPKn/AF67n1s8JRnP2kld+rt92x1eqeNP7RRQILuLdOk0oF5xhTnany/Lzg55IxU0njtPtltMLCSTyI5U3zThpG3jAG4KOBXHUVf1ute9/wAjH+zcLZR5dFfq+unc9K0G8s1i0vVNWWwEllaeWLpb751UKQqmLu2Dj8T34rnLLxetpPoz/Yy40vz+PMx5nmZ9uMZ965iirli52Sjpb/gf5IiGW0k5Oet/XTfz/vP/ACOntvF4t4LeP7EW8m1uLfPm4z5rBs9O2Pxqx4e15pXsLBYbUR29pPbzC6ufLWZHYNgHHynIA7/1HIUVEcTUTTb/AK0/yRpPAUJRaS39fPz82dZ4vlsYdJ0rTrFYY2gMrvFDceeI9xGMv6nk+1V4fF729xpMkVqP9AtjbyKz8TKevb5f1rm6Q8GlLETc3KOm34bDhgqapKnP3rX/ABvf8zqrfxfbafNYRaZphgs7WdrlomnLtI5Qp94jgAGuZj8UWPhfU4tVv7ZrsxuXjt1k2lm5wScHgdfwFZWsavFpUOTh5mHyR/1PtXnd3qM+o37SzkyHIGCeMeg9K6qEatZqUtl/X6HBipUMNGVOC96Ss9X57+erPTrf4n3ninR9V0LxNFHeR6nbvFEAiReXNjcpBA5I689cD3zpHxyLq11S9XTnQ6hpYsTEZf8AVMEC56c9OnFeKSXC22oQiViAt5bk464+bP8AKvRp725a9+wzWbMHbaJYf4QTwSD29fxrpxFSrC1n5/195wYOjQqczas1pp+G22x0h+JserR3lpBplxaxTRwlka7BgtREysfLQIMA7e5J5rc8L+LW1bxFr/iO8FrDo80SmKyluFMrXEJQxkJweTk5x6eleRTI0doQhZvMY5EYxv5OM1oaVpsunTGWSFt9xCEXBHyYJzn8xRLFSXvP5f18xQwEJWhFWXV+Wn+SM6+8eafbw+K9B1zS5dSi1W4inE8Nz5LJMgyWPynILHPbv68WX+L1pqE1/a6t4fa40bUtNtbK5tlu9koe3yUkVwvHJPykenPXPnGsSi41u8mB4kndh9CxqCNPlLY4FetTbjTS8j56slOtJruz07w38WNF8LxXtjpfh2/aynmllTTp9SE1qVdAoV0aMk4IzkEE5wScV5wiYU9uO3Sq1mN2+XBJY8Y6gCrkPzdWUDrnHFObewqUVv3EuDmJcAgZ9cg1AKkuJRI+E6Z7UwVrTTUdTmrSUpuwtFAorQyIqlNRVNQA0im8qQQcEdCKfSEUAWl1vVo12x6peqB0C3Dj+tH9vaz/ANBa+/8AAl/8ap4pMVHs4dka+3qr7T+8u/29rP8A0Fr7/wACX/xo/t7Wf+gtff8AgS/+NUsUYpezh/Kh+3q/zP72Xf7e1n/oLX3/AIEv/jR/b2s/9Ba+/wDAl/8AGqWKMUezh/Kg9vV/mf3su/29rP8A0Fr7/wACX/xo/t7Wf+gtff8AgS/+NUsUYo9nD+VB7er/ADP72Xf7e1n/AKC19/4Ev/jR/b2s/wDQWvv/AAJf/GqWKMUezh/Kg9vV/mf3sml1C+nk3z3lxI/955WJ/MmoluJ0+5NIv0cikxRiq5Y9iHUm3dsGllaUStI5kBBDljkEdDmrh1zV266renjHNw/+NU8UYocIvdDjUnHZssjV9TDBhqN2COhE7f40867rB66rfH63L/41TxRil7OHZD9tVX2n94wgk5PJpeduMnHpmnYoxVWRndiKWUAAkAdAD0pRnGMnHpS4pcUWQXYgFOFAFKKYhaKKKAIamqGpqACkxS19DWXw00g+BvDeoaX8Nf8AhJri+0+Oe8n/ALeez2OVU/dZsHOSeMAYoA+eMUmK9Ds/hLrPiKK31Dw/Jpr217evbNbx3EjNpzAFikxKcBQMZGc8EZyKfY/BrU9Q0u71OLxH4ci060umtZL24u5Iot64BIZoxxuO0HuenHNAHnOKMV37fBvxVH4vl0CZbOLybf7VJqLz4tEh5+cyYyBkYxjPfGOalHwW8Rv4i07Sre70q5j1OF5rTUbe5aS1lCDLAOFzn8MH1oA87xRivZLTwHPoHw+8W2s9n4Y126t0RnvYLsyz2LZIMagRH5wQcjcvXvWDJ8E/EsenNJ9r0htRS1+1toy3n+mrH6mPGP19uvFAHnOKMV6bpHwL8RaxpOm38GqaHCNUtxPaQT3TpLIMZ2hdnJA64496oaD8IfEGtafJe3N3pWi263Rs0fVbvyhNMGKlEwGyQwI9z0zQBwOKMV6/D4E1TS/hvr+k6n4d0db+DVoLb+0p5W8+MyNGF8vCHKHcDkOOCcqSMVla78DvEeg6Xqd5LqGi3b6XEJ7q0tbtmmSM/wAe0qMDAJ5IJ2nGaAPNcUYr0vR/gZ4l1azsJXv9G0+51CPzrewvbtkuHj/v7Ap4wQfUdwDxWP4I8M2t38XLHw3r0SXUAvZLa5RHZVfbuBwww2Mr7UAcZijFe7W3hf4d+K/GmseB7Hw1caDqdsZFs9Rh1CWcSMnUMj8KD+PfkcZ4nRvhFqWt/ubfxD4ZivzJJGumy6mPtLMhIICKp64PBwfXFAHn+KMV6ta/B2A/Cy/8Q6hrdja6pbzlBE94ohiC8NFJ8hImyCAoOOlY/wDwqTVJdAutT03XfDuqNaW32mey0/URPcRoBk5VVxkfX6ZoA4HFGK6Xw14J1DxVpOsX2l3FrnSLf7RNbyF/NkTBPyAKQenQkV0J+CPipZNBRmsQ2tnEQ8xz9nPl+ZiXCfL8vpmgDznFLivUfHnh86L8LNADaTokbR3ktu2qWEjNNdshYHcGiX5cjruPQcCvL6ADFFFFABRRRQBDU9QVPQAYr1jUPGPw58TeFPDWneJ4fFEdzolitru05bcI52qGPzsSRleOleT0UAeu+Cvid4U8B6P/AGdplhqt9HqF0zao90kaHyNrKqRhXwWGRknGeemQB0OnN4OHwA1H+0V1l/Dz6yTCbdY0uk5UqMMzIcfdJycjng8DwGigD3KD4/2lt42kmttNuoNANgtjG0ew3cYXJWQBsoTkkbSSO+exd/wvDSF8ZaVqE1z4k1KwsllLi9hs1cO67RtWJU/Mt+FeF0UAekeH/iNpujeGfGFi1vdtda1cedZsI1KJ8xI3/MCPwBrtb39oKw1DSPN+0eJNP1D7Psays47I2rSY6+ZJG0gB+nHYV4FRQB6xafFPRINR+Hlw9rqBTwxbSQ3gEaZkLRhR5fz8jI77alm+Jfg7xNo8mkeNtN1hrS21Wa+sZNPMYd0kkZtkgZgBw2PlJ+o6nyKigD1S0+JPhbT/AAvq2j6Xol5p0FzrFteWsEb+cqRRPETud33bz5ZOBxyBnvWjcfF/QJfFPjHUls9SEOu6clrbKYo9yOFIJf58Ac9ia8aooA+rPDdomtTeHPGXirQ7qwutJsCP7Rj1G1bTzGFP70kSF+hJxjAzgk4zXg2j+KbDRPjMfEs4lnsItTnuP3Cgu6Mz4IBIHcd64yigD2Zfib4D0DX9W8U+F9J1y78Q3+/yzqbQpBblz8xXYSfwOemMjJrT8G/HXQNA8M6XaXtrrMN3bu73qWUVu0V67E5kdnw+ed2F288ZIrwaigD1KD4jeGrzwj4k8P69ZaoYNQ1WTUbOS0EYY5bcqybm45AztzweOmT2U3x68Kt4fn061stbtoZdONpHZJb232e2bZtBQghyOccnGBwor57ooA7D4Y+M4PA/jAahqEM1xp80D293DDgs6MOwJAJyB3HevRLP4+2EM/iSa5sb6U3Mpl0Zdq4tz5PlgOd3HQHjd1NeF0UAeoweP/CV94N8KaB4m0/U7yDSrmWa/SMKBOGV8BWEitnLAnp0rnJb/wACP4e1iGHRtRj1OW+8zTpzNlYrbcD5bfNjOMjJV+vU1yNFAG94xuvDN7rwl8F6ddadpvkoDDdPubzOdxzubg8d/wAqwaKKACiiigCCp6gqegAooooAKKKKACiiigAooooAKKKKACiiigAooooAKKKKACiiigAooooAKKKKACiiigAooooAgqeiigAooooAKKKKACiiigAooooAKKKKACiiigAooooAKKKKACiiigAooooAKKKKACiiigAooooA/9k=)"
      ]
    },
    {
      "cell_type": "markdown",
      "metadata": {
        "id": "tFYOPLS3xiwe"
      },
      "source": [
        "## 2\\. Números"
      ]
    },
    {
      "cell_type": "markdown",
      "metadata": {
        "id": "O2G9gt7tx2c-"
      },
      "source": [
        "Preencha as células de código para preencher os valores de (A), (B) e (C) na tabela de ticket médio abaixo:\n",
        "\n",
        "<br>\n",
        "\n",
        "| Dia   | Valor Total Vendas | Qtd Total Vendas | Ticket Medio |\n",
        "|-------|--------------------|------------------|--------------|\n",
        "| 19/01 | (A)                | 3                | 320.52       |\n",
        "| 20/01 | 834.47             | (B)              | 119.21       |\n",
        "| 23/01 | 15378.12           | 5                | (C)          |"
      ]
    },
    {
      "cell_type": "code",
      "metadata": {
        "id": "nsrKH9EizNRD",
        "colab": {
          "base_uri": "https://localhost:8080/"
        },
        "outputId": "503e1b78-6ef9-4cc6-d2ed-fe72182fbbfc"
      },
      "source": [
        "# (A)\n",
        "ticket_medio_a = 320.52\n",
        "qtd_vendas_a = 3\n",
        "valor_vendas_a = ticket_medio_a * qtd_vendas_a\n",
        "print(valor_vendas_a)"
      ],
      "execution_count": 3,
      "outputs": [
        {
          "output_type": "stream",
          "text": [
            "961.56\n"
          ],
          "name": "stdout"
        }
      ]
    },
    {
      "cell_type": "code",
      "metadata": {
        "id": "QQ1GBGHJzMmi",
        "colab": {
          "base_uri": "https://localhost:8080/"
        },
        "outputId": "993b9b4b-2933-48d0-ffd4-aad4ad245d5a"
      },
      "source": [
        "# (B)\n",
        "ticket_medio_b = 119.21\n",
        "valor_vendas_b = 834.47\n",
        "qtd_vendas_b = valor_vendas_b / ticket_medio_b\n",
        "print(int(qtd_vendas_b))"
      ],
      "execution_count": 8,
      "outputs": [
        {
          "output_type": "stream",
          "text": [
            "7\n"
          ],
          "name": "stdout"
        }
      ]
    },
    {
      "cell_type": "code",
      "metadata": {
        "id": "W-li0nSMzKNa",
        "colab": {
          "base_uri": "https://localhost:8080/"
        },
        "outputId": "40d9ea23-c1e5-47a5-b5b7-2086832ff014"
      },
      "source": [
        "# (C)\n",
        "total_vendas_c = 15378.12\n",
        "qtd_vendas_c = 5\n",
        "ticket_medio_c = total_vendas_c / qtd_vendas_c\n",
        "print(ticket_medio_c)"
      ],
      "execution_count": 9,
      "outputs": [
        {
          "output_type": "stream",
          "text": [
            "3075.6240000000003\n"
          ],
          "name": "stdout"
        }
      ]
    },
    {
      "cell_type": "markdown",
      "metadata": {
        "id": "3eoP-Vj9yzh8"
      },
      "source": [
        "---"
      ]
    },
    {
      "cell_type": "markdown",
      "metadata": {
        "id": "yUJ6kdony6Pr"
      },
      "source": [
        "## 3\\. Strings"
      ]
    },
    {
      "cell_type": "markdown",
      "metadata": {
        "id": "KDuZpg-5zCvO"
      },
      "source": [
        "Aplique três métodos distintos na *string* abaixo, você pode conferir alguns métodos neste [link](https://www.w3schools.com/python/python_ref_string.asp):"
      ]
    },
    {
      "cell_type": "code",
      "metadata": {
        "id": "k9zbyf7BzjKj"
      },
      "source": [
        "cancao = 'Roda mundo, roda gigante, roda moinho, roda pião.'"
      ],
      "execution_count": 12,
      "outputs": []
    },
    {
      "cell_type": "code",
      "metadata": {
        "colab": {
          "base_uri": "https://localhost:8080/"
        },
        "id": "FhiTMSQ7Ozqh",
        "outputId": "cb4e404f-1246-47c1-a3d1-29e41f7b4aca"
      },
      "source": [
        "# Lenght\n",
        "len(cancao)"
      ],
      "execution_count": 13,
      "outputs": [
        {
          "output_type": "execute_result",
          "data": {
            "text/plain": [
              "49"
            ]
          },
          "metadata": {
            "tags": []
          },
          "execution_count": 13
        }
      ]
    },
    {
      "cell_type": "code",
      "metadata": {
        "colab": {
          "base_uri": "https://localhost:8080/",
          "height": 35
        },
        "id": "G3qMoAhqO-80",
        "outputId": "e334895e-9294-4e45-ca9b-bf7b6804521d"
      },
      "source": [
        "# Upper\n",
        "cancao.upper()"
      ],
      "execution_count": 14,
      "outputs": [
        {
          "output_type": "execute_result",
          "data": {
            "application/vnd.google.colaboratory.intrinsic+json": {
              "type": "string"
            },
            "text/plain": [
              "'RODA MUNDO, RODA GIGANTE, RODA MOINHO, RODA PIÃO.'"
            ]
          },
          "metadata": {
            "tags": []
          },
          "execution_count": 14
        }
      ]
    },
    {
      "cell_type": "code",
      "metadata": {
        "colab": {
          "base_uri": "https://localhost:8080/",
          "height": 35
        },
        "id": "uAWkq24fPCTG",
        "outputId": "347ea798-4003-4e0b-d5ac-2b035acc0a1c"
      },
      "source": [
        "cancao.replace('roda', 'rodinha')"
      ],
      "execution_count": 16,
      "outputs": [
        {
          "output_type": "execute_result",
          "data": {
            "application/vnd.google.colaboratory.intrinsic+json": {
              "type": "string"
            },
            "text/plain": [
              "'Roda mundo, rodinha gigante, rodinha moinho, rodinha pião.'"
            ]
          },
          "metadata": {
            "tags": []
          },
          "execution_count": 16
        }
      ]
    },
    {
      "cell_type": "markdown",
      "metadata": {
        "id": "guZMHXVq0FnC"
      },
      "source": [
        "Extraia da string abaixo o valor da taxa **selic** na variável `selic` e o valor do **ano** na variavel `ano`. Imprima os valores na tela."
      ]
    },
    {
      "cell_type": "code",
      "metadata": {
        "id": "cbx_P4IQ0agK"
      },
      "source": [
        "noticia = 'Selic vai a 2,75% e supera expectativas; é a primeira alta em 6 anos.'"
      ],
      "execution_count": 26,
      "outputs": []
    },
    {
      "cell_type": "code",
      "metadata": {
        "colab": {
          "base_uri": "https://localhost:8080/"
        },
        "id": "62hiUZtSPa33",
        "outputId": "3a2012c5-4541-4699-96e9-69981771b658"
      },
      "source": [
        "taxa_selic = noticia[noticia.find('2'):noticia.find('%')+1]\n",
        "print(taxa_selic)"
      ],
      "execution_count": 22,
      "outputs": [
        {
          "output_type": "stream",
          "text": [
            "2,75%\n"
          ],
          "name": "stdout"
        }
      ]
    },
    {
      "cell_type": "code",
      "metadata": {
        "colab": {
          "base_uri": "https://localhost:8080/"
        },
        "id": "eaYce5-JPzxq",
        "outputId": "111a41d8-f0ba-4999-fb46-d26bd812ff5d"
      },
      "source": [
        "ano = noticia[noticia.find('6')]\n",
        "print(ano)"
      ],
      "execution_count": 31,
      "outputs": [
        {
          "output_type": "stream",
          "text": [
            "6\n"
          ],
          "name": "stdout"
        }
      ]
    },
    {
      "cell_type": "markdown",
      "metadata": {
        "id": "no8w_Ati01xP"
      },
      "source": [
        "## 4\\. Booleanos"
      ]
    },
    {
      "cell_type": "markdown",
      "metadata": {
        "id": "D_0tC3SC099N"
      },
      "source": [
        "Utilize a tabela da verdade para responder: qual o valor da variável x?"
      ]
    },
    {
      "cell_type": "code",
      "metadata": {
        "id": "XwIEbxf91SpU"
      },
      "source": [
        "a = False\n",
        "b = True\n",
        "\n",
        "x = not a & b"
      ],
      "execution_count": 32,
      "outputs": []
    },
    {
      "cell_type": "markdown",
      "metadata": {
        "id": "8IfdD2PNQhXU"
      },
      "source": [
        "```\n",
        "not a = True\n",
        "b = True\n",
        "\n",
        "True & True = True\n",
        "\n",
        "Logo\n",
        "\n",
        "x = True\n",
        "```\n",
        "\n"
      ]
    }
  ]
}