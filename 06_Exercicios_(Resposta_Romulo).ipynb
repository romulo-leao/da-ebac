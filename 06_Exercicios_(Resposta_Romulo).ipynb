{
  "nbformat": 4,
  "nbformat_minor": 0,
  "metadata": {
    "colab": {
      "name": "06. Exercicios (Resposta_Romulo).ipynb",
      "provenance": [],
      "collapsed_sections": []
    },
    "kernelspec": {
      "name": "python3",
      "display_name": "Python 3"
    }
  },
  "cells": [
    {
      "cell_type": "markdown",
      "metadata": {
        "id": "KJqp9AANOCtf"
      },
      "source": [
        "<img src=\"https://raw.githubusercontent.com/andre-marcos-perez/ebac-course-utils/main/media/logo/newebac_logo_black_half.png\" alt=\"ebac-logo\">\n",
        "\n",
        "---\n",
        "\n",
        "# **Módulo** | Python: Programação Orientada a Objetos\n",
        "Caderno de **Exercícios**<br> \n",
        "Professor [André Perez](https://www.linkedin.com/in/andremarcosperez/)\n",
        "\n",
        "---"
      ]
    },
    {
      "cell_type": "markdown",
      "metadata": {
        "id": "d9jDtUbDOE1-"
      },
      "source": [
        "# **Tópicos**\n",
        "\n",
        "<ol type=\"1\">\n",
        "  <li>Um pouco de teoria;</li>\n",
        "  <li>Classes;</li>\n",
        "  <li>Objetos;</li>\n",
        "  <li>Herança.</li>\n",
        "</ol>"
      ]
    },
    {
      "cell_type": "markdown",
      "metadata": {
        "id": "SmoHgt-lwkpD"
      },
      "source": [
        "---"
      ]
    },
    {
      "cell_type": "markdown",
      "metadata": {
        "id": "GABI6OW8OfQ2"
      },
      "source": [
        "# **Exercícios**"
      ]
    },
    {
      "cell_type": "markdown",
      "metadata": {
        "id": "syVczIAwGO3A"
      },
      "source": [
        "## 0\\. Preparação do ambiente"
      ]
    },
    {
      "cell_type": "markdown",
      "metadata": {
        "id": "2X3TrxdzGO3C"
      },
      "source": [
        "Neste exercício vamos trabalhar com os arquivos de csv e texto definidos abaixo. Execute cada uma das células de código para escrever os arquivos na sua máquina virtual."
      ]
    },
    {
      "cell_type": "markdown",
      "metadata": {
        "id": "u0uFuhRSq_hQ"
      },
      "source": [
        "* **carros.csv**: arquivo csv com informações sobre carros (venda, manutenção, portas, etc.)."
      ]
    },
    {
      "cell_type": "code",
      "metadata": {
        "id": "daMf-xaXqKs2",
        "colab": {
          "base_uri": "https://localhost:8080/"
        },
        "outputId": "d323d339-2c89-4259-a1a1-66a3f8ec352c"
      },
      "source": [
        "%%writefile carros.csv\n",
        "id,valor_venda,valor_manutencao,portas,pessoas,porta_malas\n",
        "1,vhigh,med,2,2,small\n",
        "2,med,vhigh,2,2,small\n",
        "3,low,vhigh,2,2,small\n",
        "4,low,high,2,2,small\n",
        "5,low,high,2,2,small\n",
        "6,low,high,4,4,big\n",
        "7,low,high,4,4,big\n",
        "8,low,med,2,2,small\n",
        "9,low,med,2,2,small\n",
        "10,low,med,2,2,small\n",
        "11,low,med,4,4,big\n",
        "12,low,low,2,2,small\n",
        "13,low,low,4,4,small\n",
        "14,low,low,4,4,med"
      ],
      "execution_count": 1,
      "outputs": [
        {
          "output_type": "stream",
          "text": [
            "Writing carros.csv\n"
          ],
          "name": "stdout"
        }
      ]
    },
    {
      "cell_type": "markdown",
      "metadata": {
        "id": "X0Z2PhbCrTz1"
      },
      "source": [
        "* **musica.txt**: arquivo texto com a letra da música Roda Viva do Chico Buarque."
      ]
    },
    {
      "cell_type": "code",
      "metadata": {
        "id": "m7Ge2rggrU73",
        "colab": {
          "base_uri": "https://localhost:8080/"
        },
        "outputId": "6340540c-5c17-473e-b7d2-08a42f717a74"
      },
      "source": [
        "%%writefile musica.txt\n",
        "Roda Viva\n",
        "Chico Buarque\n",
        "\n",
        "Tem dias que a gente se sente\n",
        "Como quem partiu ou morreu\n",
        "A gente estancou de repente\n",
        "Ou foi o mundo então que cresceu\n",
        "A gente quer ter voz ativa\n",
        "No nosso destino mandar\n",
        "Mas eis que chega a roda viva\n",
        "E carrega o destino pra lá\n",
        "\n",
        "Roda mundo, roda-gigante\n",
        "Roda moinho, roda pião\n",
        "\n",
        "O tempo rodou num instante\n",
        "Nas voltas do meu coração\n",
        "A gente vai contra a corrente\n",
        "Até não poder resistir\n",
        "Na volta do barco é que sente\n",
        "O quanto deixou de cumprir\n",
        "Faz tempo que a gente cultiva\n",
        "A mais linda roseira que há\n",
        "Mas eis que chega a roda viva\n",
        "E carrega a roseira pra lá\n",
        "\n",
        "Roda mundo, roda-gigante\n",
        "Roda moinho, roda pião"
      ],
      "execution_count": 2,
      "outputs": [
        {
          "output_type": "stream",
          "text": [
            "Writing musica.txt\n"
          ],
          "name": "stdout"
        }
      ]
    },
    {
      "cell_type": "markdown",
      "metadata": {
        "id": "HV69LMAVGO3J"
      },
      "source": [
        "---"
      ]
    },
    {
      "cell_type": "markdown",
      "metadata": {
        "id": "U4S19ZvHsPcE"
      },
      "source": [
        "## 1\\. Classe para ler arquivos de texto"
      ]
    },
    {
      "cell_type": "markdown",
      "metadata": {
        "id": "HQrKGtoMGjf6"
      },
      "source": [
        "Crie a classe `ArquivoTexto`. Ela deve conter os seguintes atributos:\n",
        "\n",
        "*   `self.arquivo`: Atributo do tipo `str` com o nome do arquivo;\n",
        "*   `self.conteudo`: Atributo do tipo `list` onde cada elemento é uma linha do arquivo;\n",
        "\n",
        "A classe também deve conter o seguinte método:\n",
        "\n",
        "*   `self.extrair_linha`: Método que recebe como parâmetro o número da linha e retorna o seu conteúdo."
      ]
    },
    {
      "cell_type": "code",
      "metadata": {
        "id": "9QFsOQ9ZGXUC"
      },
      "source": [
        "class ArquivoTexto(object):\n",
        "\n",
        "  def __init__(self, arquivo: str):\n",
        "    self.arquivo = arquivo\n",
        "    self.conteudo = self._extrair_conteudo()\n",
        "\n",
        "  def _extrair_conteudo(self):\n",
        "    conteudo = None\n",
        "    with open(file=self.arquivo, mode=\"r\", encoding=\"utf8\") as file:\n",
        "      conteudo = file.readlines()\n",
        "    return conteudo\n",
        "\n",
        "  def extrair_linha(self, numero_linha: int):\n",
        "    conteudo_linha = list()\n",
        "    for conteudo in self.conteudo:\n",
        "      for i, linha in enumerate(self.conteudo, start=1):\n",
        "        if i == numero_linha:\n",
        "          return linha\n",
        "                    \n",
        "    return conteudo_linha"
      ],
      "execution_count": 95,
      "outputs": []
    },
    {
      "cell_type": "markdown",
      "metadata": {
        "id": "866OgsyHHw2M"
      },
      "source": [
        "Utilize o código abaixo para testar sua classe."
      ]
    },
    {
      "cell_type": "code",
      "metadata": {
        "id": "_HV_CE7CH8LO",
        "colab": {
          "base_uri": "https://localhost:8080/"
        },
        "outputId": "1d507dc6-92de-4c49-a100-49f70d7b9be8"
      },
      "source": [
        "arquivo_texto = ArquivoTexto(arquivo='musica.txt')\n",
        "\n",
        "numero_linha = 1\n",
        "print(arquivo_texto.extrair_linha(numero_linha=numero_linha)) # Roda Viva\n",
        "\n",
        "numero_linha = 10\n",
        "print(arquivo_texto.extrair_linha(numero_linha=numero_linha)) # Mas eis que chega a roda viva"
      ],
      "execution_count": 97,
      "outputs": [
        {
          "output_type": "stream",
          "text": [
            "Roda Viva\n",
            "\n",
            "Mas eis que chega a roda viva\n",
            "\n"
          ],
          "name": "stdout"
        }
      ]
    },
    {
      "cell_type": "markdown",
      "metadata": {
        "id": "zMN1Q3jdwoJm"
      },
      "source": [
        "---"
      ]
    },
    {
      "cell_type": "markdown",
      "metadata": {
        "id": "aQ8euzThIlLl"
      },
      "source": [
        "## 2\\. Classe para ler arquivos de csv"
      ]
    },
    {
      "cell_type": "markdown",
      "metadata": {
        "id": "EMWhvKAWIlL0"
      },
      "source": [
        "Crie a classe `ArquivoCSV`. Ela deve extender (herdar) a classe `ArquivoTexto` para reaproveitar os seus atributos (`self.arquivo` e `self.conteudo`) e método (`self.extrair_linha`). Além disso, adicione o seguinte atributo:\n",
        "\n",
        "*   `self.colunas`: Atributo do tipo `list` onde os elementos são os nome das colunas;\n",
        "\n",
        "A classe também deve conter o seguinte método:\n",
        "\n",
        "*   `self.extrair_coluna_da_linha`: Método que recebe como parâmetro o numero da linha e o indice da coluna e retorna o valor em questão."
      ]
    },
    {
      "cell_type": "code",
      "metadata": {
        "id": "2r3mfEyYIlL0"
      },
      "source": [
        "class ArquivoCSV(ArquivoTexto):\n",
        "\n",
        "  def __init__(self, arquivo: str):\n",
        "    super().__init__(arquivo=arquivo)\n",
        "    self.colunas = self._extrair_nome_coluna()\n",
        "  \n",
        "  def _extrair_nome_coluna(self):\n",
        "    return self.conteudo[0].strip().split(',')\n",
        "\n",
        "\n",
        "  def extrair_coluna_da_linha(self, numero_linha: int, numero_coluna: int):\n",
        "    coluna = list()\n",
        "    for linha in self.conteudo:\n",
        "      conteudo_linha = linha.strip().split(',')\n",
        "      coluna.append(conteudo_linha[numero_coluna-1])\n",
        "    return coluna[numero_linha]\n"
      ],
      "execution_count": 138,
      "outputs": []
    },
    {
      "cell_type": "markdown",
      "metadata": {
        "id": "jQm_hBETIlL1"
      },
      "source": [
        "Utilize o código abaixo para testar sua classe."
      ]
    },
    {
      "cell_type": "code",
      "metadata": {
        "id": "GKSf1YbcIlL1",
        "colab": {
          "base_uri": "https://localhost:8080/"
        },
        "outputId": "9d8af3bd-393c-4688-e89a-acdfa99fdeed"
      },
      "source": [
        "arquivo_csv = ArquivoCSV(arquivo='carros.csv')\n",
        "\n",
        "numero_linha = 1\n",
        "print(arquivo_csv.extrair_linha(numero_linha=numero_linha)) # id,valor_venda,valor_manutencao,portas,pessoas,porta_malas\n",
        "\n",
        "print(arquivo_csv.colunas) # ['id', 'valor_venda', 'valor_manutencao', 'portas', 'pessoas', 'porta_malas']\n",
        "\n",
        "numero_linha = 10\n",
        "print(arquivo_csv.extrair_linha(numero_linha=numero_linha)) # 9,low,med,2,2,small\n",
        "\n",
        "numero_linha = 10\n",
        "numero_coluna = 2\n",
        "print(arquivo_csv.extrair_coluna_da_linha(numero_linha=numero_linha, numero_coluna=numero_coluna)) # low"
      ],
      "execution_count": 142,
      "outputs": [
        {
          "output_type": "stream",
          "text": [
            "id,valor_venda,valor_manutencao,portas,pessoas,porta_malas\n",
            "\n",
            "['id', 'valor_venda', 'valor_manutencao', 'portas', 'pessoas', 'porta_malas']\n",
            "9,low,med,2,2,small\n",
            "\n",
            "low\n"
          ],
          "name": "stdout"
        }
      ]
    },
    {
      "cell_type": "markdown",
      "metadata": {
        "id": "78xH4bWUIlL2"
      },
      "source": [
        "---"
      ]
    }
  ]
}