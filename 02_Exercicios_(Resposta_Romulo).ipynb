{
  "nbformat": 4,
  "nbformat_minor": 0,
  "metadata": {
    "colab": {
      "name": "02. Exercicios (Resposta Romulo).ipynb",
      "provenance": [],
      "collapsed_sections": [],
      "toc_visible": true
    },
    "kernelspec": {
      "name": "python3",
      "display_name": "Python 3"
    }
  },
  "cells": [
    {
      "cell_type": "markdown",
      "metadata": {
        "id": "KJqp9AANOCtf"
      },
      "source": [
        "<img src=\"https://raw.githubusercontent.com/andre-marcos-perez/ebac-course-utils/main/media/logo/newebac_logo_black_half.png\" alt=\"ebac-logo\">\n",
        "\n",
        "---\n",
        "\n",
        "# **Módulo 02** | Python: Estruturas de Dados\n",
        "Caderno de **Exercícios**<br> \n",
        "Professor [André Perez](https://www.linkedin.com/in/andremarcosperez/)\n",
        "\n",
        "---"
      ]
    },
    {
      "cell_type": "markdown",
      "metadata": {
        "id": "d9jDtUbDOE1-"
      },
      "source": [
        "# **Tópicos**\n",
        "\n",
        "<ol type=\"1\">\n",
        "  <li>Listas;</li>\n",
        "  <li>Conjuntos;</li>\n",
        "  <li>Dicionários.</li>\n",
        "</ol>"
      ]
    },
    {
      "cell_type": "markdown",
      "metadata": {
        "id": "SmoHgt-lwkpD"
      },
      "source": [
        "---"
      ]
    },
    {
      "cell_type": "markdown",
      "metadata": {
        "id": "GABI6OW8OfQ2"
      },
      "source": [
        "# **Exercícios**"
      ]
    },
    {
      "cell_type": "markdown",
      "metadata": {
        "id": "muD1vxozykSC"
      },
      "source": [
        "## 1\\. Listas"
      ]
    },
    {
      "cell_type": "markdown",
      "metadata": {
        "id": "ahrFfCuBxJKs"
      },
      "source": [
        "Criei uma lista chamada `filmes` com o nome dos 10 primeiros filmes mais bem avaliados no site no [IMDB](https://www.imdb.com/chart/top/). Imprima o resultado."
      ]
    },
    {
      "cell_type": "code",
      "metadata": {
        "id": "OgL6Hv3bzOHI",
        "colab": {
          "base_uri": "https://localhost:8080/"
        },
        "outputId": "9e5f18b7-b6d0-45cb-d1ab-9dc70eee96a4"
      },
      "source": [
        "imdb_top10 = ['Um sonho de liberdade', 'O Poderoso Chefão', 'O Poderoso Chefão 2', 'Batman: o Cavaleiro das Trevas', '12 Homens e uma Sentença', 'A Lista de Schindler', 'O Senhor dos Anéis: O Retorno do Rei', 'Pulp Fiction: Tempo de Violência', 'Três Homens em Conflito', 'O Senhor dos Anéis: A Sociedade do Anel']\n",
        "print(imdb_top10)\n",
        "print(type(imdb_top10))\n",
        "len(imdb_top10)"
      ],
      "execution_count": 7,
      "outputs": [
        {
          "output_type": "stream",
          "text": [
            "['Um sonho de liberdade', 'O Poderoso Chefão', 'O Poderoso Chefão 2', 'Batman: o Cavaleiro das Trevas', '12 Homens e uma Sentença', 'A Lista de Schindler', 'O Senhor dos Anéis: O Retorno do Rei', 'Pulp Fiction: Tempo de Violência', 'Três Homens em Conflito', 'O Senhor dos Anéis: A Sociedade do Anel']\n",
            "<class 'list'>\n"
          ],
          "name": "stdout"
        },
        {
          "output_type": "execute_result",
          "data": {
            "text/plain": [
              "10"
            ]
          },
          "metadata": {
            "tags": []
          },
          "execution_count": 7
        }
      ]
    },
    {
      "cell_type": "markdown",
      "metadata": {
        "id": "KI9zQRT2xa7m"
      },
      "source": [
        "Simule a movimentação do *ranking*. Utilize os métodos `insert` e `pop` para trocar a posição do primeiro e do segundo filme da lista. Imprima o resultado.\n",
        "\n"
      ]
    },
    {
      "cell_type": "code",
      "metadata": {
        "id": "zX3mA3_GzrXH",
        "colab": {
          "base_uri": "https://localhost:8080/"
        },
        "outputId": "198edaa8-e1a9-46ce-aac3-855b7a99bc4f"
      },
      "source": [
        "imdb_top10.pop(0)\n",
        "imdb_top10.insert(4, 'Um sonho de liberdade')\n",
        "imdb_top10.pop(5)\n",
        "imdb_top10.insert(8, 'A Lista de Schindler')\n",
        "print(imdb_top10)\n",
        "len(imdb_top10)"
      ],
      "execution_count": 8,
      "outputs": [
        {
          "output_type": "stream",
          "text": [
            "['O Poderoso Chefão', 'O Poderoso Chefão 2', 'Batman: o Cavaleiro das Trevas', '12 Homens e uma Sentença', 'Um sonho de liberdade', 'O Senhor dos Anéis: O Retorno do Rei', 'Pulp Fiction: Tempo de Violência', 'Três Homens em Conflito', 'A Lista de Schindler', 'O Senhor dos Anéis: A Sociedade do Anel']\n"
          ],
          "name": "stdout"
        },
        {
          "output_type": "execute_result",
          "data": {
            "text/plain": [
              "10"
            ]
          },
          "metadata": {
            "tags": []
          },
          "execution_count": 8
        }
      ]
    },
    {
      "cell_type": "markdown",
      "metadata": {
        "id": "zMN1Q3jdwoJm"
      },
      "source": [
        "---"
      ]
    },
    {
      "cell_type": "markdown",
      "metadata": {
        "id": "lxa5L6uF0ZJE"
      },
      "source": [
        "## 2\\. Conjuntos"
      ]
    },
    {
      "cell_type": "markdown",
      "metadata": {
        "id": "9JahS2Kj0d5u"
      },
      "source": [
        "Aconteceu um erro no seu *ranking*. Simule a duplicação dos três últimos filmes da lista. Imprima o resultado."
      ]
    },
    {
      "cell_type": "code",
      "metadata": {
        "id": "BnjnLBNC6PGe",
        "colab": {
          "base_uri": "https://localhost:8080/"
        },
        "outputId": "c369b583-7a48-46bd-8a8c-ae62329a6f50"
      },
      "source": [
        "erro_top10 = ['Um sonho de liberdade', 'O Poderoso Chefão', 'O Poderoso Chefão 2', 'Batman: o Cavaleiro das Trevas', '12 Homens e uma Sentença', 'A Lista de Schindler', 'O Senhor dos Anéis: O Retorno do Rei', 'Pulp Fiction: Tempo de Violência', 'Pulp Fiction: Tempo de Violência','Três Homens em Conflito', 'Três Homens em Conflito', 'O Senhor dos Anéis: A Sociedade do Anel', 'O Senhor dos Anéis: A Sociedade do Anel']\n",
        "print(erro_top10)\n",
        "len(erro_top10)"
      ],
      "execution_count": 10,
      "outputs": [
        {
          "output_type": "stream",
          "text": [
            "['Um sonho de liberdade', 'O Poderoso Chefão', 'O Poderoso Chefão 2', 'Batman: o Cavaleiro das Trevas', '12 Homens e uma Sentença', 'A Lista de Schindler', 'O Senhor dos Anéis: O Retorno do Rei', 'Pulp Fiction: Tempo de Violência', 'Pulp Fiction: Tempo de Violência', 'Três Homens em Conflito', 'Três Homens em Conflito', 'O Senhor dos Anéis: A Sociedade do Anel', 'O Senhor dos Anéis: A Sociedade do Anel']\n"
          ],
          "name": "stdout"
        },
        {
          "output_type": "execute_result",
          "data": {
            "text/plain": [
              "13"
            ]
          },
          "metadata": {
            "tags": []
          },
          "execution_count": 10
        }
      ]
    },
    {
      "cell_type": "markdown",
      "metadata": {
        "id": "suxTfCJB6ZiX"
      },
      "source": [
        "Utiliza a conversão `set` e `list` para remover os valores duplicados. Imprima o resultado. "
      ]
    },
    {
      "cell_type": "code",
      "metadata": {
        "id": "ZvUGN-0n6joM",
        "colab": {
          "base_uri": "https://localhost:8080/"
        },
        "outputId": "c9a69714-0e7d-46a5-98fd-70b10b9436e0"
      },
      "source": [
        "correcao_top10 = list(set(erro_top10))\n",
        "print(correcao_top10)\n",
        "len(correcao_top10)"
      ],
      "execution_count": 13,
      "outputs": [
        {
          "output_type": "stream",
          "text": [
            "['O Poderoso Chefão 2', 'Um sonho de liberdade', 'Três Homens em Conflito', '12 Homens e uma Sentença', 'A Lista de Schindler', 'Pulp Fiction: Tempo de Violência', 'O Poderoso Chefão', 'O Senhor dos Anéis: A Sociedade do Anel', 'Batman: o Cavaleiro das Trevas', 'O Senhor dos Anéis: O Retorno do Rei']\n"
          ],
          "name": "stdout"
        },
        {
          "output_type": "execute_result",
          "data": {
            "text/plain": [
              "10"
            ]
          },
          "metadata": {
            "tags": []
          },
          "execution_count": 13
        }
      ]
    },
    {
      "cell_type": "markdown",
      "metadata": {
        "id": "ShkK35eQ6pAM"
      },
      "source": [
        "---"
      ]
    },
    {
      "cell_type": "markdown",
      "metadata": {
        "id": "EL_FzmxL6rTv"
      },
      "source": [
        "## 3\\. Dicionários"
      ]
    },
    {
      "cell_type": "markdown",
      "metadata": {
        "id": "i8l0gFqRCpfT"
      },
      "source": [
        "Repita os exercícios da parte 1 (listas). Os elementos da lista `filmes` devem ser dicionários no seguinte formato: `{'nome': <nome-do-filme>, 'ano': <ano do filme>}, 'sinopse': <sinopse do filme>}`. "
      ]
    },
    {
      "cell_type": "code",
      "metadata": {
        "id": "PxVWMcdWNMIe"
      },
      "source": [
        "top10_completo = [{'nome': 'Um Sonho de Liberdade',\n",
        "                   'ano': 1994,\n",
        "                   'sinopse': 'Two imprisoned men bond over a number of years, finding solace and eventual redemption through acts of common decency.'},\n",
        "                  {'nome': 'O Poderoso Chefão',\n",
        "                   'ano': 1974,\n",
        "                   'sinopse': 'An organized crime dynastys aging patriarch transfers control of his clandestine empire to his reluctant son.'},\n",
        "                     {'nome': 'O Poderoso Chefão II',\n",
        "                   'ano': 1974,\n",
        "                   'sinopse': 'The early life and career of Vito Corleone in 1920s New York City is portrayed, while his son, Michael, expands and tightens his grip on the family crime syndicate.'},\n",
        "                       {'nome': 'Batman: O Cavaleiro das Trevas',\n",
        "                   'ano': 2008,\n",
        "                   'sinopse': 'When the menace known as the Joker wreaks havoc and chaos on the people of Gotham, Batman must accept one of the greatest psychological and physical tests of his ability to fight injustice.'},\n",
        "                       {'nome': '12 Homens e uma Sentença',\n",
        "                   'ano': 1957,\n",
        "                   'sinopse': 'A jury holdout attempts to prevent a miscarriage of justice by forcing his colleagues to reconsider the evidence.'},\n",
        "                       {'nome': 'A Lista de Schindler',\n",
        "                   'ano': 1993,\n",
        "                   'sinopse': 'In German-occupied Poland during World War II, industrialist Oskar Schindler gradually becomes concerned for his Jewish workforce after witnessing their persecution by the Nazis.'},\n",
        "                       {'nome': 'O Senhor dos Anéis: O Retorno do Rei',\n",
        "                   'ano': 2003,\n",
        "                   'sinopse': 'Gandalf and Aragorn lead the World of Men against Saurons army to draw his gaze from Frodo and Sam as they approach Mount Doom with the One Ring.'},\n",
        "                       {'nome': 'Pulp Fiction: Tempo de Violência',\n",
        "                   'ano': 1994,\n",
        "                   'sinopse': 'The lives of two mob hitmen, a boxer, a gangster and his wife, and a pair of diner bandits intertwine in four tales of violence and redemption.'},\n",
        "                       {'nome': 'Três Homens em Conflito',\n",
        "                   'ano': 1966,\n",
        "                   'sinopse': 'A bounty hunting scam joins two men in an uneasy alliance against a third in a race to find a fortune in gold buried in a remote cemetery.'},\n",
        "                       {'nome': 'O Senhor dos Anéis: A Sociedade do Anel',\n",
        "                   'ano': 2001,\n",
        "                   'sinopse': 'A meek Hobbit from the Shire and eight companions set out on a journey to destroy the powerful One Ring and save Middle-earth from the Dark Lord Sauron.'}]"
      ],
      "execution_count": 16,
      "outputs": []
    },
    {
      "cell_type": "code",
      "metadata": {
        "colab": {
          "base_uri": "https://localhost:8080/"
        },
        "id": "ZbrNwuCOPAUy",
        "outputId": "1da8303d-28b3-4e6e-cd56-1873b76559ca"
      },
      "source": [
        "print(len(top10_completo))\n",
        "print(type(top10_completo))\n",
        "print(top10_completo)"
      ],
      "execution_count": 18,
      "outputs": [
        {
          "output_type": "stream",
          "text": [
            "10\n",
            "<class 'list'>\n",
            "[{'nome': 'Um Sonho de Liberdade', 'ano': 1994, 'sinopse': 'Two imprisoned men bond over a number of years, finding solace and eventual redemption through acts of common decency.'}, {'nome': 'O Poderoso Chefão', 'ano': 1974, 'sinopse': 'An organized crime dynastys aging patriarch transfers control of his clandestine empire to his reluctant son.'}, {'nome': 'O Poderoso Chefão II', 'ano': 1974, 'sinopse': 'The early life and career of Vito Corleone in 1920s New York City is portrayed, while his son, Michael, expands and tightens his grip on the family crime syndicate.'}, {'nome': 'Batman: O Cavaleiro das Trevas', 'ano': 2008, 'sinopse': 'When the menace known as the Joker wreaks havoc and chaos on the people of Gotham, Batman must accept one of the greatest psychological and physical tests of his ability to fight injustice.'}, {'nome': '12 Homens e uma Sentença', 'ano': 1957, 'sinopse': 'A jury holdout attempts to prevent a miscarriage of justice by forcing his colleagues to reconsider the evidence.'}, {'nome': 'A Lista de Schindler', 'ano': 1993, 'sinopse': 'In German-occupied Poland during World War II, industrialist Oskar Schindler gradually becomes concerned for his Jewish workforce after witnessing their persecution by the Nazis.'}, {'nome': 'O Senhor dos Anéis: O Retorno do Rei', 'ano': 2003, 'sinopse': 'Gandalf and Aragorn lead the World of Men against Saurons army to draw his gaze from Frodo and Sam as they approach Mount Doom with the One Ring.'}, {'nome': 'Pulp Fiction: Tempo de Violência', 'ano': 1994, 'sinopse': 'The lives of two mob hitmen, a boxer, a gangster and his wife, and a pair of diner bandits intertwine in four tales of violence and redemption.'}, {'nome': 'Três Homens em Conflito', 'ano': 1966, 'sinopse': 'A bounty hunting scam joins two men in an uneasy alliance against a third in a race to find a fortune in gold buried in a remote cemetery.'}, {'nome': 'O Senhor dos Anéis: A Sociedade do Anel', 'ano': 2001, 'sinopse': 'A meek Hobbit from the Shire and eight companions set out on a journey to destroy the powerful One Ring and save Middle-earth from the Dark Lord Sauron.'}]\n"
          ],
          "name": "stdout"
        }
      ]
    }
  ]
}